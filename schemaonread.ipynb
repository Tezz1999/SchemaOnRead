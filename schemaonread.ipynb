{
 "cells": [
  {
   "cell_type": "code",
   "execution_count": 42,
   "metadata": {},
   "outputs": [
    {
     "name": "stdout",
     "output_type": "stream",
     "text": [
      "[{'pitime': '2018-05-06 16:44:13.255641', 'temp5': 102.2, 'temp8': 67.64}, {'pitime': '2018-05-06 16:45:15.361161', 'temp5': 102.2, 'temp8': 67.46}, {'pitime': '2018-05-06 16:46:17.439869', 'temp5': 102.2, 'temp8': 67.46}, {'pitime': '2018-05-06 16:47:19.464711', 'temp5': 102.2, 'temp8': 67.28}, {'pitime': '2018-05-06 16:48:21.537662', 'temp5': 102.2, 'temp8': 67.28}, {'pitime': '2018-05-06 16:49:23.563972', 'temp5': 102.2, 'temp8': 67.28}, {'pitime': '2018-05-06 16:50:25.618637', 'temp5': 102.2, 'temp8': 67.1}, {'pitime': '2018-05-06 16:51:27.660628', 'temp5': 102.2, 'temp8': 67.1}, {'pitime': '2018-05-06 16:52:29.731174', 'temp5': 102.2, 'temp8': 67.1}, {'pitime': '2018-05-06 16:53:31.787713', 'temp5': 102.2, 'temp8': 67.28}, {'pitime': '2018-05-06 16:54:33.834959', 'temp5': 102.2, 'temp8': 67.28}, {'pitime': '2018-05-06 16:55:35.831204', 'temp5': 101.3, 'temp8': 67.28}, {'pitime': '2018-05-06 16:56:37.942106', 'temp5': 101.3, 'temp8': 67.28}, {'pitime': '2018-05-06 16:57:40.023904', 'temp5': 101.3, 'temp8': 67.28}, {'pitime': '2018-05-06 16:58:42.056537', 'temp5': 101.3, 'temp8': 67.28}, {'pitime': '2018-05-06 16:59:44.055493', 'temp5': 101.3, 'temp8': 67.28}, {'pitime': '2018-05-06 17:00:46.171019', 'temp5': 101.3, 'temp8': 67.28}, {'pitime': '2018-05-06 17:01:48.161051', 'temp5': 101.3, 'temp8': 67.28}, {'pitime': '2018-05-06 17:02:50.227585', 'temp5': 101.3, 'temp8': 67.46}, {'pitime': '2018-05-06 17:03:52.267092', 'temp5': 101.3, 'temp8': 67.28}, {'pitime': '2018-05-06 17:04:54.320981', 'temp5': 101.3, 'temp8': 67.28}, {'pitime': '2018-05-06 17:05:56.370562', 'temp5': 101.3, 'temp8': 67.28}, {'pitime': '2018-05-06 17:06:58.514046', 'temp5': 101.3, 'temp8': 67.1}, {'pitime': '2018-05-06 17:08:00.563764', 'temp5': 101.3, 'temp8': 67.1}, {'pitime': '2018-05-06 17:09:02.541246', 'temp5': 101.3, 'temp8': 66.92}, {'pitime': '2018-05-06 17:10:04.596712', 'temp5': 101.3, 'temp8': 66.92}, {'pitime': '2018-05-06 17:11:06.771511', 'temp5': 101.3, 'temp8': 66.74}, {'pitime': '2018-05-06 17:12:08.713814', 'temp5': 101.3, 'temp8': 66.74}, {'pitime': '2018-05-06 17:13:10.766767', 'temp5': 101.3, 'temp8': 66.56}, {'pitime': '2018-05-06 17:14:12.883420', 'temp5': 101.3, 'temp8': 66.56}, {'pitime': '2018-05-06 17:15:14.941685', 'temp5': 101.3, 'temp8': 66.56}, {'pitime': '2018-05-06 17:16:16.950481', 'temp5': 101.3, 'temp8': 66.56}, {'pitime': '2018-05-06 17:17:19.039100', 'temp5': 101.3, 'temp8': 66.56}, {'pitime': '2018-05-06 17:18:21.108283', 'temp5': 100.4, 'temp8': 66.56}, {'pitime': '2018-05-06 17:19:23.109491', 'temp5': 100.4, 'temp8': 66.56}, {'pitime': '2018-05-06 17:20:25.208745', 'temp5': 100.4, 'temp8': 66.56}, {'pitime': '2018-05-06 17:21:27.203271', 'temp5': 100.4, 'temp8': 66.56}, {'pitime': '2018-05-06 17:22:36.998684', 'temp5': 100.4, 'temp8': 66.56}, {'pitime': '2018-05-06 17:23:39.683091', 'temp5': 100.4, 'temp8': 66.38}, {'pitime': '2018-05-06 17:24:42.276578', 'temp5': 100.4, 'temp8': 66.38}, {'pitime': '2018-05-06 17:25:44.926610', 'temp5': 100.4, 'temp8': 66.2}, {'pitime': '2018-05-06 17:26:47.665142', 'temp5': 100.4, 'temp8': 66.2}, {'pitime': '2018-05-06 17:27:50.324990', 'temp5': 100.4, 'temp8': 66.2}, {'pitime': '2018-05-06 17:28:52.941184', 'temp5': 100.4, 'temp8': 66.02}, {'pitime': '2018-05-06 17:29:55.614531', 'temp5': 100.4, 'temp8': 66.02}, {'pitime': '2018-05-06 17:30:58.206446', 'temp5': 100.4, 'temp8': 66.02}, {'pitime': '2018-05-06 17:32:00.873962', 'temp5': 100.4, 'temp8': 65.84}, {'pitime': '2018-05-06 17:33:03.530742', 'temp5': 99.5, 'temp8': 65.84}, {'pitime': '2018-05-06 17:34:06.155015', 'temp5': 99.5, 'temp8': 65.84}, {'pitime': '2018-05-06 17:35:08.796577', 'temp5': 99.5, 'temp8': 65.66}, {'pitime': '2018-05-06 17:36:11.544086', 'temp5': 99.5, 'temp8': 65.66}, {'pitime': '2018-05-06 17:37:14.199308', 'temp5': 99.5, 'temp8': 65.66}, {'pitime': '2018-05-06 17:38:16.745560', 'temp5': 99.5, 'temp8': 65.66}, {'pitime': '2018-05-06 17:39:19.456109', 'temp5': 99.5, 'temp8': 65.48}, {'pitime': '2018-05-06 17:40:22.115685', 'temp5': 99.5, 'temp8': 65.66}, {'pitime': '2018-05-06 17:41:24.791418', 'temp5': 99.5, 'temp8': 65.48}, {'pitime': '2018-05-06 17:42:27.472665', 'temp5': 99.5, 'temp8': 65.66}, {'pitime': '2018-05-06 17:43:30.069858', 'temp5': 99.5, 'temp8': 65.66}, {'pitime': '2018-05-06 17:44:32.667190', 'temp5': 99.5, 'temp8': 65.48}, {'pitime': '2018-05-06 17:45:35.460530', 'temp5': 98.6, 'temp8': 65.48}, {'pitime': '2018-05-06 17:46:38.016305', 'temp5': 98.6, 'temp8': 65.66}, {'pitime': '2018-05-06 17:47:40.617161', 'temp5': 98.6, 'temp8': 65.66}, {'pitime': '2018-05-06 17:48:43.389557', 'temp5': 98.6, 'temp8': 65.66}, {'pitime': '2018-05-06 17:49:45.992694', 'temp5': 98.6, 'temp8': 65.66}, {'pitime': '2018-05-06 17:50:48.596087', 'temp5': 98.6, 'temp8': 65.66}, {'pitime': '2018-05-06 17:51:51.337609', 'temp5': 98.6, 'temp8': 65.48}, {'pitime': '2018-05-06 17:52:53.979045', 'temp5': 98.6, 'temp8': 65.48}, {'pitime': '2018-05-06 17:53:56.558002', 'temp5': 98.6, 'temp8': 65.48}, {'pitime': '2018-05-06 17:54:59.353877', 'temp5': 98.6, 'temp8': 65.48}, {'pitime': '2018-05-06 17:56:01.911074', 'temp5': 97.7, 'temp8': 65.48}, {'pitime': '2018-05-06 17:57:04.592823', 'temp5': 97.7, 'temp8': 65.3}, {'pitime': '2018-05-06 17:58:07.233364', 'temp5': 97.7, 'temp8': 65.48}, {'pitime': '2018-05-06 17:59:09.908796', 'temp5': 97.7, 'temp8': 65.48}, {'pitime': '2018-05-06 16:00:46.969268', 'temp5': 104.0, 'temp8': 67.82}, {'pitime': '2018-05-06 16:01:49.108410', 'temp5': 104.0, 'temp8': 67.82}, {'pitime': '2018-05-06 16:02:51.101703', 'temp5': 104.0, 'temp8': 68.0}, {'pitime': '2018-05-06 16:03:53.175249', 'temp5': 104.0, 'temp8': 67.82}, {'pitime': '2018-05-06 16:04:55.273589', 'temp5': 104.0, 'temp8': 67.82}, {'pitime': '2018-05-06 16:05:57.327692', 'temp5': 104.0, 'temp8': 67.64}, {'pitime': '2018-05-06 16:06:59.374978', 'temp5': 104.0, 'temp8': 67.64}, {'pitime': '2018-05-06 16:08:01.436360', 'temp5': 104.0, 'temp8': 67.64}, {'pitime': '2018-05-06 16:09:03.401510', 'temp5': 104.0, 'temp8': 67.46}, {'pitime': '2018-05-06 16:10:05.455259', 'temp5': 104.0, 'temp8': 67.46}, {'pitime': '2018-05-06 16:11:07.579157', 'temp5': 103.1, 'temp8': 67.28}, {'pitime': '2018-05-06 16:12:09.627468', 'temp5': 103.1, 'temp8': 67.28}, {'pitime': '2018-05-06 16:13:11.697221', 'temp5': 103.1, 'temp8': 67.1}, {'pitime': '2018-05-06 16:14:13.745416', 'temp5': 103.1, 'temp8': 67.1}, {'pitime': '2018-05-06 16:15:15.806842', 'temp5': 103.1, 'temp8': 67.1}, {'pitime': '2018-05-06 16:16:17.777844', 'temp5': 103.1, 'temp8': 67.1}, {'pitime': '2018-05-06 16:17:19.822555', 'temp5': 103.1, 'temp8': 67.1}, {'pitime': '2018-05-06 16:18:21.894266', 'temp5': 103.1, 'temp8': 67.1}, {'pitime': '2018-05-06 16:19:23.953146', 'temp5': 103.1, 'temp8': 67.1}, {'pitime': '2018-05-06 16:20:26.058410', 'temp5': 103.1, 'temp8': 67.1}, {'pitime': '2018-05-06 16:21:28.118158', 'temp5': 103.1, 'temp8': 67.28}, {'pitime': '2018-05-06 16:22:30.165032', 'temp5': 103.1, 'temp8': 67.28}, {'pitime': '2018-05-06 16:23:32.159490', 'temp5': 103.1, 'temp8': 67.28}, {'pitime': '2018-05-06 16:24:34.204247', 'temp5': 103.1, 'temp8': 67.46}, {'pitime': '2018-05-06 16:25:36.283565', 'temp5': 103.1, 'temp8': 67.64}, {'pitime': '2018-05-06 16:26:38.363176', 'temp5': 103.1, 'temp8': 67.64}, {'pitime': '2018-05-06 16:27:40.430436', 'temp5': 103.1, 'temp8': 67.64}, {'pitime': '2018-05-06 16:28:42.482540', 'temp5': 103.1, 'temp8': 67.82}, {'pitime': '2018-05-06 16:29:44.529370', 'temp5': 103.1, 'temp8': 67.64}, {'pitime': '2018-05-06 16:30:46.563571', 'temp5': 103.1, 'temp8': 67.64}, {'pitime': '2018-05-06 16:31:48.621440', 'temp5': 102.2, 'temp8': 67.64}, {'pitime': '2018-05-06 16:32:50.682755', 'temp5': 102.2, 'temp8': 67.64}, {'pitime': '2018-05-06 16:33:52.729299', 'temp5': 102.2, 'temp8': 67.64}, {'pitime': '2018-05-06 16:34:54.801105', 'temp5': 102.2, 'temp8': 67.64}, {'pitime': '2018-05-06 16:35:56.882226', 'temp5': 102.2, 'temp8': 67.82}, {'pitime': '2018-05-06 16:36:58.912343', 'temp5': 102.2, 'temp8': 67.82}, {'pitime': '2018-05-06 16:38:00.967958', 'temp5': 102.2, 'temp8': 67.82}, {'pitime': '2018-05-06 16:39:03.011268', 'temp5': 102.2, 'temp8': 67.82}, {'pitime': '2018-05-06 16:40:05.077795', 'temp5': 102.2, 'temp8': 67.82}, {'pitime': '2018-05-06 16:41:07.157712', 'temp5': 102.2, 'temp8': 67.82}, {'pitime': '2018-05-06 16:42:09.169404', 'temp5': 102.2, 'temp8': 67.82}, {'pitime': '2018-05-06 16:43:11.208695', 'temp5': 102.2, 'temp8': 67.64}]\n"
     ]
    }
   ],
   "source": [
    "\n",
    "import os, json\n",
    "import datetime\n",
    "exten = ['txt']\n",
    "path = 'datalog.txt'\n",
    "results = []\n",
    "entry = {}\n",
    "start_date = datetime.datetime.strptime('2018-05-06 16:00:00',\"%Y-%m-%d %H:%M:%S\")\n",
    "end_date = datetime.datetime.strptime('2018-05-06 18:00:00',\"%Y-%m-%d %H:%M:%S\")\n",
    "for file in os.listdir(path):\n",
    "    extension = file.split('.')[-2]\n",
    "    # print(extension)\n",
    "    if extension in exten:\n",
    "        fp= os.path.join(path,file)\n",
    "        f= open(fp, \"r\")\n",
    "        # s = f.read()\n",
    "        # print(file, len(s))\n",
    "        n = 0\n",
    "        for line in f:\n",
    "            try:\n",
    "                data = json.loads(line)\n",
    "                dto  = datetime.datetime.strptime(data['pitime'], \"%Y-%m-%dT%H:%M:%S.%f\")             \n",
    "                if start_date <= dto <= end_date:\n",
    "                    formatted_pitime = dto.strftime(\"%Y-%m-%d %H:%M:%S.%f\")\n",
    "                    entry = {\n",
    "                        \"pitime\": formatted_pitime,\n",
    "                        \"temp5\": data[\"temp_5\"],\n",
    "                        \"temp8\": data[\"temp_8\"]\n",
    "                    }\n",
    "                    # print(entry)\n",
    "                    results.append(entry)\n",
    "            except Exception as e:\n",
    "                    pass            \n",
    "print(results)\n",
    "\n",
    "\n",
    "\n"
   ]
  },
  {
   "cell_type": "code",
   "execution_count": 43,
   "metadata": {},
   "outputs": [
    {
     "data": {
      "text/plain": [
       "57.647922077922466"
      ]
     },
     "execution_count": 43,
     "metadata": {},
     "output_type": "execute_result"
    }
   ],
   "source": [
    "import os, json\n",
    "import datetime\n",
    "exten = ['txt']\n",
    "path = 'datalog.txt'\n",
    "start_date_query = datetime.datetime.strptime('2018-05-05 16:00:00', \"%Y-%m-%d %H:%M:%S\")\n",
    "end_date_query = datetime.datetime.strptime('2018-05-07 16:00:00', \"%Y-%m-%d %H:%M:%S\")\n",
    "temp_8_values = []\n",
    "\n",
    "for file in os.listdir(path):\n",
    "    extension = file.split('.')[-2]\n",
    "    # print(extension)\n",
    "    if extension in exten:\n",
    "        fp= os.path.join(path,file)\n",
    "        f= open(fp, \"r\")\n",
    "        # s = f.read()\n",
    "        # print(file, len(s))\n",
    "        n = 0\n",
    "        for line in f:\n",
    "            try:\n",
    "                data = json.loads(line)\n",
    "                dto = datetime.datetime.strptime(data['pitime'], \"%Y-%m-%dT%H:%M:%S.%f\")\n",
    "                if start_date_query <= dto <= end_date_query:\n",
    "                    if \"temp_8\" in data and data[\"temp_8\"] is not None:\n",
    "                        temp_8_values.append(data[\"temp_8\"])\n",
    "            except Exception as e:\n",
    "                pass\n",
    "\n",
    "# Calculating the average of temp_8 values\n",
    "avg_temp_8 = sum(temp_8_values) / len(temp_8_values) if temp_8_values else None\n",
    "avg_temp_8"
   ]
  },
  {
   "cell_type": "code",
   "execution_count": 45,
   "metadata": {},
   "outputs": [
    {
     "name": "stdout",
     "output_type": "stream",
     "text": [
      "1235.7282875082735\n"
     ]
    },
    {
     "data": {
      "text/plain": [
       "(670.9519071501018, 7992, 400)"
      ]
     },
     "execution_count": 45,
     "metadata": {},
     "output_type": "execute_result"
    }
   ],
   "source": [
    "# Analysis of CO2 Values of a particular display\n",
    "import os, json\n",
    "import numpy as np\n",
    "import datetime\n",
    "exten = ['txt']\n",
    "path = 'datalog.txt'\n",
    "start_date_query = datetime.datetime.strptime('2018-05-05 00:00:00', \"%Y-%m-%d %H:%M:%S\")\n",
    "end_date_query = datetime.datetime.strptime('2018-05-06 00:00:00', \"%Y-%m-%d %H:%M:%S\")\n",
    "co2_values = []\n",
    "for file in os.listdir(path):\n",
    "    extension = file.split('.')[-2]\n",
    "    # print(extension)\n",
    "    if extension in exten:\n",
    "        fp= os.path.join(path,file)\n",
    "        f= open(fp, \"r\")\n",
    "\n",
    "        for line in f:\n",
    "            try:\n",
    "                data = json.loads(line)\n",
    "                if \"co2\" in data and data[\"co2\"] is not None:\n",
    "                    co2_values.append(data[\"co2\"])\n",
    "            except Exception as e:\n",
    "                pass\n",
    "\n",
    "# Calculate the average CO2 level\n",
    "avg_co2 = sum(co2_values) / len(co2_values) if co2_values else None\n",
    "print(avg_co2)\n",
    "\n",
    "# Calculating the standard deviation, maximum, and minimum CO2 levels\n",
    "\n",
    "std_dev_co2 = np.std(co2_values)\n",
    "max_co2 = max(co2_values)\n",
    "min_co2 = min(co2_values)\n",
    "\n",
    "std_dev_co2, max_co2, min_co2\n",
    "\n"
   ]
  }
 ],
 "metadata": {
  "kernelspec": {
   "display_name": "Python 3",
   "language": "python",
   "name": "python3"
  },
  "language_info": {
   "codemirror_mode": {
    "name": "ipython",
    "version": 3
   },
   "file_extension": ".py",
   "mimetype": "text/x-python",
   "name": "python",
   "nbconvert_exporter": "python",
   "pygments_lexer": "ipython3",
   "version": "3.11.3"
  },
  "orig_nbformat": 4
 },
 "nbformat": 4,
 "nbformat_minor": 2
}
